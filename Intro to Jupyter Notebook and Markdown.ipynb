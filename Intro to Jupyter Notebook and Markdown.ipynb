{
 "cells": [
  {
   "cell_type": "markdown",
   "metadata": {
    "slideshow": {
     "slide_type": "slide"
    }
   },
   "source": [
    "# Intro to Jupyter Notebooks and Markdown\n",
    "\n",
    "## QCL Workshop Series\n",
    "\n",
    "#### April 5th, 2019\n",
    "\n",
    "#### Instructor: Dr. Jeho Park, Director of MSQCL\n",
    "\n",
    "_The workshop materials are provided by Software Carpentry and the Jupyter/IPython Notebook core development team (IPython Notebook in depth) -- https://github.com/ipython/ipython-in-depth_"
   ]
  },
  {
   "cell_type": "markdown",
   "metadata": {
    "slideshow": {
     "slide_type": "slide"
    }
   },
   "source": [
    "## Goals of today's workshop\n",
    "\n",
    "- Install and run Jupyter Notebooks (locally)\n",
    "- Test different cell types\n",
    "- Use keyboard shortcuts\n",
    "- Run Python or R codes in a notebook\n",
    "- Format texts using markdown\n",
    "- Share your notebooks\n",
    "- (Optional) Install RISE and make slides"
   ]
  },
  {
   "cell_type": "markdown",
   "metadata": {
    "slideshow": {
     "slide_type": "slide"
    }
   },
   "source": [
    "## Agenda\n",
    "\n",
    "- Why Jupyter?\n",
    "- Install Check\n",
    "- Notebook Basics\n",
    "  - Dashboard (Home): Notebook, Text Editor, and Terminal\n",
    "- IPython: The Core of Jupyter Notebooks\n",
    "- Running Code\n",
    "- Markdown\n",
    "- Jupyter(-like) cloud resources (for _real_ reproducibility)\n",
    "- (Optional) RISE add-on for presentation!"
   ]
  },
  {
   "cell_type": "markdown",
   "metadata": {
    "slideshow": {
     "slide_type": "slide"
    }
   },
   "source": [
    "## Why Jupyter?\n",
    "1. Science is all about evidence!  \n",
    "   Reproducibility is important\n",
    "2. Open source community\n",
    "3. Convenient"
   ]
  },
  {
   "cell_type": "markdown",
   "metadata": {
    "slideshow": {
     "slide_type": "slide"
    }
   },
   "source": [
    "## Why Jupyter?\n",
    "1. Science is all about evidence!  \n",
    "   Reproducibility is ~~important~~ crucial\n",
    "2. Open source community\n",
    "3. Convenient"
   ]
  },
  {
   "cell_type": "markdown",
   "metadata": {},
   "source": [
    "### Are you an R user?  \n",
    "Install R and R essential packages to your Anaconda environment so that you can create a notebook for R:\n",
    "\n",
    "`conda install -c r r-essentials`\n",
    "\n",
    "It will check your Anaconda installation and download **a lot of packages** (~80 packages) to install R and R Essentials, so be patient. Notticed is, for some Windows Anaconda 3, an infinite wait at the package checking (it seems like a bug or something)."
   ]
  },
  {
   "attachments": {},
   "cell_type": "markdown",
   "metadata": {
    "slideshow": {
     "slide_type": "slide"
    }
   },
   "source": [
    "## Notebook Basics: The Dashboard (Home)\n",
    "![Home.png](files/Home.png)\n",
    "\n",
    " [Notebook Basics](https://github.com/ipython/ipython-in-depth/blob/fb55848a186cc53849f5002788a334638c298d2b/examples/Notebook/Notebook%20Basics.ipynb)"
   ]
  },
  {
   "cell_type": "markdown",
   "metadata": {
    "slideshow": {
     "slide_type": "slide"
    }
   },
   "source": [
    "## IPython\n",
    " [Beyond Plain Python](https://github.com/ipython/ipython-in-depth/blob/fb55848a186cc53849f5002788a334638c298d2b/examples/IPython%20Kernel/Beyond%20Plain%20Python.ipynb)\n",
    " \n",
    "Check out magic commands! https://ipython.org/ipython-doc/3/interactive/magics.html\n"
   ]
  },
  {
   "cell_type": "markdown",
   "metadata": {
    "slideshow": {
     "slide_type": "slide"
    }
   },
   "source": [
    "## Running Python (and R)\n",
    "[Running Code](https://github.com/ipython/ipython-in-depth/blob/master/examples/Notebook/Running%20Code.ipynb)"
   ]
  },
  {
   "cell_type": "markdown",
   "metadata": {
    "slideshow": {
     "slide_type": "slide"
    }
   },
   "source": [
    "## Markdown\n",
    "\n",
    "* [Markdown Tutorial](https://www.markdowntutorial.com) -- a nice guided tutorial\n",
    "\n",
    "* [GitHub: Mastering Markdown](https://guides.github.com/features/mastering-markdown/)\n",
    "\n",
    "* [Brynmawr example](https://jupyter.brynmawr.edu/services/public/dblank/Jupyter%20Notebook%20Users%20Manual.ipynb#4.-Using-Markdown-Cells-for-Writing)\n",
    "\n",
    "* [HackMD](https://hackmd.io/) -- Very nice mrkdown on-the-fly! You should check this out!\n",
    "\n",
    "* [Tablesgenerator.com](https://www.tablesgenerator.com/markdown_tables) -- Handy website for table creation (just be mindful that Jupyter Notebook ignores some styles)."
   ]
  },
  {
   "cell_type": "markdown",
   "metadata": {
    "slideshow": {
     "slide_type": "slide"
    }
   },
   "source": [
    "## Reproducibility\n",
    "### Sharing your research with the world\n",
    "\n",
    "- [nbviewer](https://nbviewer.jupyter.org) and [binder beta](http://mybider.org): Create a web page instantly and share the runnable notebook (beta)\n",
    "- [GitHub](https://reproducible-science-curriculum.github.io/sharing-RR-Jupyter/01-sharing-github/): Probably the best way to share your notebooks and code. (Employers are looking at your GitHub repos!)\n",
    "- [Google Colab](http://colab.research.google.com): Test it out! Worth it.\n",
    "- [Cocalc SageMath](http://cocalc.com): maybe...\n",
    "- [Notebooks on Azure](http://notebooks.azure.com): maybe... Meh~\n",
    "- [Kaggle](http://kaggle.com): Definitely! (if you are bound to data science)"
   ]
  },
  {
   "cell_type": "code",
   "execution_count": null,
   "metadata": {
    "slideshow": {
     "slide_type": "slide"
    }
   },
   "outputs": [],
   "source": [
    "# Let's do some coding\n",
    "\n",
    "x = 10\n",
    "y = x * 100\n",
    "print(y)"
   ]
  },
  {
   "cell_type": "markdown",
   "metadata": {
    "slideshow": {
     "slide_type": "slide"
    }
   },
   "source": [
    "### Mathematics? No prob!\n",
    "The Markdown parser included in IPython is [MathJax](https://www.mathjax.org)-aware.\n",
    "\n",
    "For example:\n",
    "$$c = \\sqrt(a^2 + b^2)$$\n",
    "\n",
    "This is $\\alpha = \\beta + \\gamma$ inline TeX in a **[Markdown-formatted](http://daringfireball.net/projects/markdown/)** sentence."
   ]
  },
  {
   "cell_type": "code",
   "execution_count": null,
   "metadata": {
    "slideshow": {
     "slide_type": "slide"
    }
   },
   "outputs": [],
   "source": [
    "# System command example\n",
    "%pwd"
   ]
  },
  {
   "cell_type": "code",
   "execution_count": null,
   "metadata": {
    "scrolled": true,
    "slideshow": {
     "slide_type": "slide"
    }
   },
   "outputs": [],
   "source": [
    "# Python plot example\n",
    "import mpld3; mpld3.enable_notebook()\n",
    "import pandas as pd\n",
    "\n",
    "pd.read_csv('data/MSFT_2000_2002.csv').plot();\n",
    "\n",
    "# You may encounter errors if you don't have the packages installed already\n",
    "# I always install the Python packages outside the notebook environment to  \n",
    "# make sure the packages are installed system-wide."
   ]
  },
  {
   "cell_type": "markdown",
   "metadata": {
    "slideshow": {
     "slide_type": "slide"
    }
   },
   "source": [
    "## Hands-On\n",
    "\n",
    "Create a table like the following:"
   ]
  },
  {
   "cell_type": "markdown",
   "metadata": {
    "slideshow": {
     "slide_type": "slide"
    }
   },
   "source": [
    "| Item #  | Condition | Price |\n",
    "|---------|-----------|-------|\n",
    "| Item 1  | New | \\$1600  |\n",
    "| Item 2  | Used |  \\$120 |\n",
    "| Item 3  | Grabage |  \\$1 |\n",
    "\n",
    "Is there any problem rendring your markdown at first? If so, why?"
   ]
  },
  {
   "cell_type": "markdown",
   "metadata": {
    "slideshow": {
     "slide_type": "slide"
    }
   },
   "source": [
    "## Presentation using Jupyter Notebooks\n",
    "\n",
    "[RISE](https://rise.readthedocs.io)\n",
    "\n",
    "Try following their installation instructions. It's straight forward if you use Anaconda. \n",
    "\n",
    "See their video introduction as well (it has no sound but it shows everything for your start)."
   ]
  },
  {
   "cell_type": "code",
   "execution_count": null,
   "metadata": {
    "slideshow": {
     "slide_type": "slide"
    }
   },
   "outputs": [],
   "source": [
    "## Styling your table\n",
    "%%html\n",
    "<style>\n",
    "table {float:center}\n",
    "</style>"
   ]
  }
 ],
 "metadata": {
  "celltoolbar": "Slideshow",
  "kernelspec": {
   "display_name": "Python 3",
   "language": "python",
   "name": "python3"
  },
  "language_info": {
   "codemirror_mode": {
    "name": "ipython",
    "version": 3
   },
   "file_extension": ".py",
   "mimetype": "text/x-python",
   "name": "python",
   "nbconvert_exporter": "python",
   "pygments_lexer": "ipython3",
   "version": "3.6.8"
  }
 },
 "nbformat": 4,
 "nbformat_minor": 2
}
